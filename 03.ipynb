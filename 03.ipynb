{
 "cells": [
  {
   "cell_type": "code",
   "execution_count": 3,
   "metadata": {},
   "outputs": [],
   "source": [
    "import pandas as pd\n",
    "\n",
    "class Escola:\n",
    "    def __init__(self, URE, USE, MUNICIPIO, COD_ESCOLA, COD_DISCIPLINA, CH_HORARIA, VAGAS):\n",
    "        self.URE = URE\n",
    "        self.USE = USE\n",
    "        self.MUNICIPIO = MUNICIPIO\n",
    "        self.COD_ESCOLA = COD_ESCOLA\n",
    "        self.COD_DISCIPLINA = COD_DISCIPLINA\n",
    "        self.CH_HORARIA = CH_HORARIA\n",
    "        self.VAGAS = VAGAS\n",
    "\n",
    "# Carregar o DataFrame\n",
    "base_escolas = pd.read_excel('escolas.xlsx')\n",
    "\n",
    "# Dicionário para armazenar os objetos Escola\n",
    "escolas_dict = {}\n",
    "\n",
    "# Percorrer as linhas do DataFrame\n",
    "for indice, linha in base_escolas.iterrows():\n",
    "    # Gerar o nome do objeto\n",
    "    nome_objeto = f\"escola_{linha['COD_ESCOLA']}\"\n",
    "    \n",
    "    # Criar um objeto Escola para cada linha\n",
    "    escola = Escola(\n",
    "        linha['URE'],\n",
    "        linha['USE'],\n",
    "        linha['MUNICIPIO'],\n",
    "        linha['COD_ESCOLA'],\n",
    "        linha['COD_DISCIPLINA'],\n",
    "        linha['CH_HORARIA'],\n",
    "        linha['VAGAS']\n",
    "        # LISTA DE PROFESSORES (VAZIA)\n",
    "    )\n",
    "    \n",
    "\n",
    "    # Adicionar o objeto ao dicionário usando o nome como chave\n",
    "    escolas_dict[nome_objeto] = escola\n",
    "\n",
    "for nome_objeto, escola in escolas_dict.items():\n",
    "    print(f\"Nome do objeto: {nome_objeto}, VAGAS: {escola.VAGAS}, Disciplina {escola.COD_DISCIPLINA}\")\n",
    "        # ESCOLA.LISTA ADICIONA CADA PROFESSOR QUE CUMPRA OS REQUISITOS\n",
    "        # LISTA ATUALIZADA COM RANKING (3, 9, 5, 6, 7, 8)\n",
    "\n",
    "        \n",
    "\n",
    "\n",
    "# CONTRATAÇÃO POR PREFERENCIA\n",
    "# SUBTRAI NUMERO DE VAGAS\n",
    "\n",
    "# CONFERIR REPETIÇÃO NO PRIMEIRO ELEMENTO DAS OUTRAS LISTAS\n",
    "# REMOÇÃO DO PROFESSOR DE OUTRAS LISTAS\n",
    "\n"
   ]
  },
  {
   "cell_type": "code",
   "execution_count": 2,
   "metadata": {},
   "outputs": [
    {
     "name": "stdout",
     "output_type": "stream",
     "text": [
      "[0. 0. 0.]\n",
      "[0. 0. 0.]\n",
      "[0. 0. 0.]\n",
      "[0. 0. 0.]\n",
      "[0. 0. 0.]\n"
     ]
    }
   ],
   "source": [
    "# lista = [10, 20, 30, 40, 50]\n",
    "# valor = 70\n",
    "\n",
    "# if valor in lista:\n",
    "#     indice = lista.index(valor)\n",
    "#     print(f\"O valor {valor} está na posição: {indice}\")\n",
    "# else:\n",
    "#     print(\"O valor não está na lista.\")\n"
   ]
  },
  {
   "cell_type": "code",
   "execution_count": null,
   "metadata": {},
   "outputs": [],
   "source": []
  },
  {
   "cell_type": "code",
   "execution_count": null,
   "metadata": {},
   "outputs": [],
   "source": []
  },
  {
   "cell_type": "code",
   "execution_count": null,
   "metadata": {},
   "outputs": [],
   "source": []
  },
  {
   "cell_type": "code",
   "execution_count": null,
   "metadata": {},
   "outputs": [],
   "source": []
  },
  {
   "cell_type": "code",
   "execution_count": null,
   "metadata": {},
   "outputs": [],
   "source": []
  },
  {
   "cell_type": "code",
   "execution_count": null,
   "metadata": {},
   "outputs": [],
   "source": []
  },
  {
   "cell_type": "code",
   "execution_count": null,
   "metadata": {},
   "outputs": [],
   "source": []
  },
  {
   "cell_type": "code",
   "execution_count": null,
   "metadata": {},
   "outputs": [],
   "source": []
  }
 ],
 "metadata": {
  "kernelspec": {
   "display_name": "Python 3",
   "language": "python",
   "name": "python3"
  },
  "language_info": {
   "codemirror_mode": {
    "name": "ipython",
    "version": 3
   },
   "file_extension": ".py",
   "mimetype": "text/x-python",
   "name": "python",
   "nbconvert_exporter": "python",
   "pygments_lexer": "ipython3",
   "version": "3.11.5"
  }
 },
 "nbformat": 4,
 "nbformat_minor": 2
}
