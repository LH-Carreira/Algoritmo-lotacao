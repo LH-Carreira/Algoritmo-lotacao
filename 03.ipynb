{
 "cells": [
  {
   "cell_type": "code",
   "execution_count": 47,
   "metadata": {},
   "outputs": [
    {
     "name": "stdout",
     "output_type": "stream",
     "text": [
      "Nome do objeto: Professor 1_5948590.0_2002.0\n",
      "Nome do objeto: Professor 3_5973168.0_2002.0\n",
      "Nome do objeto: Professor 5_5922696.0_2002.0\n",
      "Nome do objeto: Professor 7_5974417.0_2002.0\n",
      "Nome do objeto: Professor 97_5951405.0_2002.0\n",
      "Nome do objeto: Professor 2_5936943.0_2002.0\n",
      "Nome do objeto: Professor 6_5936943.0_2002.0\n",
      "Nome do objeto: Professor 8_5923338.0_2002.0\n",
      "Nome do objeto: Professor 4_5971966.0_2002.0\n",
      "Nome do objeto: Professor 10_5951385.0_2002.0\n",
      "Nome do objeto: Professor 9_5951384.0_2002.0\n"
     ]
    }
   ],
   "source": [
    "import pandas as pd\n",
    "\n",
    "class Professor:\n",
    "    def __init__(self, SERVIDOR, MATRICULA, COD_DISCIPLINA, TURNO, CH_TOTAL, lista_escolas):\n",
    "\n",
    "        self.SERVIDOR = SERVIDOR\n",
    "        self.MATRICULA = MATRICULA\n",
    "        self.COD_DISCIPLINA = COD_DISCIPLINA\n",
    "        self.TURNO = TURNO\n",
    "        self.CH_TOTAL = CH_TOTAL\n",
    "        self.lista_escolas = lista_escolas\n",
    "\n",
    "\n",
    "# Carregar o DataFrame\n",
    "base_professores = pd.read_excel('professores.xlsx')\n",
    "\n",
    "base_professores = base_professores[base_professores['COD_DISCIPLINA'] == 2002]\n",
    "# Dicionário para armazenar os objetos Escola\n",
    "escolas_dict = {}\n",
    "\n",
    "# Percorrer as linhas do DataFrame\n",
    "for indice, linha in base_professores.iterrows():\n",
    "    # Gerar o nome do objeto\n",
    "    nome_objeto = f\"{linha['SERVIDOR']}_{linha['MATRICULA']}_{linha['COD_DISCIPLINA']}\"\n",
    "        \n",
    "    # Criar um objeto Escola para cada linha com CH_RELATIVA e VAGAS calculadas\n",
    "    professor = Professor(\n",
    "        linha['SERVIDOR'],\n",
    "        linha['MATRICULA'],\n",
    "        linha['COD_DISCIPLINA'],\n",
    "        linha['TURNO'],\n",
    "        CH_TOTAL = [],\n",
    "        lista_escolas=[]\n",
    "    )\n",
    "\n",
    "    # Adicionar o objeto ao dicionário usando o nome como chave\n",
    "    escolas_dict[nome_objeto] = professor\n",
    "\n",
    "for objeto_print, prof_print in escolas_dict.items():\n",
    "    print(f\"Nome do objeto: {objeto_print}\")\n",
    "\n",
    "\n"
   ]
  },
  {
   "cell_type": "code",
   "execution_count": 48,
   "metadata": {},
   "outputs": [
    {
     "name": "stdout",
     "output_type": "stream",
     "text": [
      "--------------------\n",
      "Nome do objeto: Professor 1_5948590.0_2002.0, Escolas: [1, 3], CH Respectivamente: [39, 3]\n",
      "Nome do objeto: Professor 3_5973168.0_2002.0, Escolas: [5, 3], CH Respectivamente: [39, 3]\n",
      "Nome do objeto: Professor 5_5922696.0_2002.0, Escolas: [5, 1], CH Respectivamente: [39, 3]\n",
      "Nome do objeto: Professor 7_5974417.0_2002.0, Escolas: [3, 6], CH Respectivamente: [39, 3]\n",
      "Nome do objeto: Professor 97_5951405.0_2002.0, Escolas: [6, 1], CH Respectivamente: [39, 3]\n",
      "Nome do objeto: Professor 2_5936943.0_2002.0, Escolas: [2, 3], CH Respectivamente: [39, 3]\n",
      "Nome do objeto: Professor 6_5936943.0_2002.0, Escolas: [2, 3], CH Respectivamente: [39, 3]\n",
      "Nome do objeto: Professor 8_5923338.0_2002.0, Escolas: [1, 4], CH Respectivamente: [39, 3]\n",
      "Nome do objeto: Professor 4_5971966.0_2002.0, Escolas: [4, 5], CH Respectivamente: [39, 3]\n",
      "Nome do objeto: Professor 10_5951385.0_2002.0, Escolas: [3, 5], CH Respectivamente: [39, 3]\n",
      "Nome do objeto: Professor 9_5951384.0_2002.0, Escolas: [3], CH Respectivamente: [27]\n",
      "--------------------\n"
     ]
    }
   ],
   "source": [
    "for nome_objeto, professor in escolas_dict.items():\n",
    "\n",
    "    for index, escolas in base_professores.iterrows():\n",
    "        \n",
    "        if (professor.MATRICULA == escolas['MATRICULA']):\n",
    "\n",
    "                if escolas['COD_ESCOLA'] not in professor.lista_escolas:\n",
    "                    professor.lista_escolas.append(escolas['COD_ESCOLA'])\n",
    "                    professor.CH_TOTAL.append(int(escolas['CH_TOTAL']))\n",
    "\n",
    "\n",
    "print('-'*20)\n",
    "for objeto_print, prof_print in escolas_dict.items():\n",
    "    print(f\"Nome do objeto: {objeto_print}, Escolas: {prof_print.lista_escolas}, CH Respectivamente: {prof_print.CH_TOTAL}\")\n",
    "print('-'*20)"
   ]
  },
  {
   "cell_type": "code",
   "execution_count": 49,
   "metadata": {},
   "outputs": [
    {
     "ename": "ValueError",
     "evalue": "columns cannot be a set",
     "output_type": "error",
     "traceback": [
      "\u001b[1;31m---------------------------------------------------------------------------\u001b[0m",
      "\u001b[1;31mValueError\u001b[0m                                Traceback (most recent call last)",
      "\u001b[1;32m~\\AppData\\Local\\Temp\\ipykernel_15520\\2451869658.py\u001b[0m in \u001b[0;36m?\u001b[1;34m()\u001b[0m\n\u001b[1;32m----> 1\u001b[1;33m \u001b[0mdf\u001b[0m \u001b[1;33m=\u001b[0m \u001b[0mpd\u001b[0m\u001b[1;33m.\u001b[0m\u001b[0mDataFrame\u001b[0m\u001b[1;33m(\u001b[0m\u001b[0mindex\u001b[0m\u001b[1;33m=\u001b[0m\u001b[0mescolas_dict\u001b[0m\u001b[1;33m.\u001b[0m\u001b[0mkeys\u001b[0m\u001b[1;33m(\u001b[0m\u001b[1;33m)\u001b[0m\u001b[1;33m,\u001b[0m \u001b[0mcolumns\u001b[0m\u001b[1;33m=\u001b[0m\u001b[0mset\u001b[0m\u001b[1;33m(\u001b[0m\u001b[0mescola\u001b[0m \u001b[1;32mfor\u001b[0m \u001b[0mprof\u001b[0m \u001b[1;32min\u001b[0m \u001b[0mescolas_dict\u001b[0m\u001b[1;33m.\u001b[0m\u001b[0mvalues\u001b[0m\u001b[1;33m(\u001b[0m\u001b[1;33m)\u001b[0m \u001b[1;32mfor\u001b[0m \u001b[0mescola\u001b[0m \u001b[1;32min\u001b[0m \u001b[0mprof\u001b[0m\u001b[1;33m.\u001b[0m\u001b[0mlista_escolas\u001b[0m\u001b[1;33m)\u001b[0m\u001b[1;33m)\u001b[0m\u001b[1;33m\u001b[0m\u001b[1;33m\u001b[0m\u001b[0m\n\u001b[0m\u001b[0;32m      2\u001b[0m \u001b[1;33m\u001b[0m\u001b[0m\n\u001b[0;32m      3\u001b[0m \u001b[1;31m# Preencher o DataFrame com as cargas horárias\u001b[0m\u001b[1;33m\u001b[0m\u001b[1;33m\u001b[0m\u001b[0m\n\u001b[0;32m      4\u001b[0m \u001b[1;32mfor\u001b[0m \u001b[0mnome_objeto\u001b[0m\u001b[1;33m,\u001b[0m \u001b[0mprofessor\u001b[0m \u001b[1;32min\u001b[0m \u001b[0mescolas_dict\u001b[0m\u001b[1;33m.\u001b[0m\u001b[0mitems\u001b[0m\u001b[1;33m(\u001b[0m\u001b[1;33m)\u001b[0m\u001b[1;33m:\u001b[0m\u001b[1;33m\u001b[0m\u001b[1;33m\u001b[0m\u001b[0m\n",
      "\u001b[1;32mc:\\Users\\SEDUC\\AppData\\Local\\Programs\\Python\\Python311\\Lib\\site-packages\\pandas\\core\\frame.py\u001b[0m in \u001b[0;36m?\u001b[1;34m(self, data, index, columns, dtype, copy)\u001b[0m\n\u001b[0;32m    698\u001b[0m         \u001b[1;31m# GH47215\u001b[0m\u001b[1;33m\u001b[0m\u001b[1;33m\u001b[0m\u001b[0m\n\u001b[0;32m    699\u001b[0m         \u001b[1;32mif\u001b[0m \u001b[0misinstance\u001b[0m\u001b[1;33m(\u001b[0m\u001b[0mindex\u001b[0m\u001b[1;33m,\u001b[0m \u001b[0mset\u001b[0m\u001b[1;33m)\u001b[0m\u001b[1;33m:\u001b[0m\u001b[1;33m\u001b[0m\u001b[1;33m\u001b[0m\u001b[0m\n\u001b[0;32m    700\u001b[0m             \u001b[1;32mraise\u001b[0m \u001b[0mValueError\u001b[0m\u001b[1;33m(\u001b[0m\u001b[1;34m\"index cannot be a set\"\u001b[0m\u001b[1;33m)\u001b[0m\u001b[1;33m\u001b[0m\u001b[1;33m\u001b[0m\u001b[0m\n\u001b[0;32m    701\u001b[0m         \u001b[1;32mif\u001b[0m \u001b[0misinstance\u001b[0m\u001b[1;33m(\u001b[0m\u001b[0mcolumns\u001b[0m\u001b[1;33m,\u001b[0m \u001b[0mset\u001b[0m\u001b[1;33m)\u001b[0m\u001b[1;33m:\u001b[0m\u001b[1;33m\u001b[0m\u001b[1;33m\u001b[0m\u001b[0m\n\u001b[1;32m--> 702\u001b[1;33m             \u001b[1;32mraise\u001b[0m \u001b[0mValueError\u001b[0m\u001b[1;33m(\u001b[0m\u001b[1;34m\"columns cannot be a set\"\u001b[0m\u001b[1;33m)\u001b[0m\u001b[1;33m\u001b[0m\u001b[1;33m\u001b[0m\u001b[0m\n\u001b[0m\u001b[0;32m    703\u001b[0m \u001b[1;33m\u001b[0m\u001b[0m\n\u001b[0;32m    704\u001b[0m         \u001b[1;32mif\u001b[0m \u001b[0mcopy\u001b[0m \u001b[1;32mis\u001b[0m \u001b[1;32mNone\u001b[0m\u001b[1;33m:\u001b[0m\u001b[1;33m\u001b[0m\u001b[1;33m\u001b[0m\u001b[0m\n\u001b[0;32m    705\u001b[0m             \u001b[1;32mif\u001b[0m \u001b[0misinstance\u001b[0m\u001b[1;33m(\u001b[0m\u001b[0mdata\u001b[0m\u001b[1;33m,\u001b[0m \u001b[0mdict\u001b[0m\u001b[1;33m)\u001b[0m\u001b[1;33m:\u001b[0m\u001b[1;33m\u001b[0m\u001b[1;33m\u001b[0m\u001b[0m\n",
      "\u001b[1;31mValueError\u001b[0m: columns cannot be a set"
     ]
    }
   ],
   "source": [
    "import pandas as pd\n",
    "\n",
    "# Criar um DataFrame vazio com os professores como índice e escolas como colunas\n",
    "df = pd.DataFrame(index=escolas_dict.keys(), columns=list(set(escola for prof in escolas_dict.values() for escola in prof.lista_escolas)))\n",
    "\n",
    "# Preencher o DataFrame com as cargas horárias\n",
    "for nome_objeto, professor in escolas_dict.items():\n",
    "    for escola, carga_horaria in zip(professor.lista_escolas, professor.CH_TOTAL):\n",
    "        df.at[nome_objeto, escola] = carga_horaria\n",
    "\n",
    "# Preencher valores vazios com 0\n",
    "df = df.fillna(0)\n",
    "\n",
    "# Exibir o DataFrame\n",
    "print(df)"
   ]
  }
 ],
 "metadata": {
  "kernelspec": {
   "display_name": "Python 3",
   "language": "python",
   "name": "python3"
  },
  "language_info": {
   "codemirror_mode": {
    "name": "ipython",
    "version": 3
   },
   "file_extension": ".py",
   "mimetype": "text/x-python",
   "name": "python",
   "nbconvert_exporter": "python",
   "pygments_lexer": "ipython3",
   "version": "3.11.5"
  }
 },
 "nbformat": 4,
 "nbformat_minor": 2
}
