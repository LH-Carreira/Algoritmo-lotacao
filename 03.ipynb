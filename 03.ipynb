{
 "cells": [
  {
   "cell_type": "code",
   "execution_count": 8,
   "metadata": {},
   "outputs": [
    {
     "name": "stdout",
     "output_type": "stream",
     "text": [
      "Nome do objeto: Professor 1_5948590.0_2002.0\n",
      "Nome do objeto: Professor 3_5973168.0_2002.0\n",
      "Nome do objeto: Professor 5_5922696.0_2002.0\n",
      "Nome do objeto: Professor 7_5974417.0_2002.0\n",
      "Nome do objeto: Professor 97_5951405.0_2002.0\n",
      "Nome do objeto: Professor 2_5936943.0_2002.0\n",
      "Nome do objeto: Professor 6_5936943.0_2002.0\n",
      "Nome do objeto: Professor 8_5923338.0_2002.0\n",
      "Nome do objeto: Professor 4_5971966.0_2002.0\n",
      "Nome do objeto: Professor 10_5951385.0_2002.0\n",
      "Nome do objeto: Professor 9_5951384.0_2002.0\n"
     ]
    }
   ],
   "source": [
    "import pandas as pd\n",
    "\n",
    "class Professor:\n",
    "    def __init__(self, SERVIDOR, MATRICULA, COD_DISCIPLINA, TURNO, CH_TOTAL, lista_escolas):\n",
    "\n",
    "        self.SERVIDOR = SERVIDOR\n",
    "        self.MATRICULA = MATRICULA\n",
    "        self.COD_DISCIPLINA = COD_DISCIPLINA\n",
    "        self.TURNO = TURNO\n",
    "        self.CH_TOTAL = CH_TOTAL\n",
    "        self.lista_escolas = lista_escolas\n",
    "\n",
    "\n",
    "# Carregar o DataFrame\n",
    "base_professores = pd.read_excel('mock1.xlsx')\n",
    "\n",
    "base_professores = base_professores[base_professores['COD_DISCIPLINA'] == 2002]\n",
    "# Dicionário para armazenar os objetos Escola\n",
    "escolas_dict = {}\n",
    "\n",
    "# Percorrer as linhas do DataFrame\n",
    "for indice, linha in base_professores.iterrows():\n",
    "    # Gerar o nome do objeto\n",
    "    nome_objeto = f\"{linha['SERVIDOR']}_{linha['MATRICULA']}_{linha['COD_DISCIPLINA']}\"\n",
    "        \n",
    "    # Criar um objeto Escola para cada linha com CH_RELATIVA e VAGAS calculadas\n",
    "    professor = Professor(\n",
    "        linha['SERVIDOR'],\n",
    "        linha['MATRICULA'],\n",
    "        linha['COD_DISCIPLINA'],\n",
    "        linha['TURNO'],\n",
    "        CH_TOTAL = [],\n",
    "        lista_escolas=[]\n",
    "    )\n",
    "\n",
    "    # Adicionar o objeto ao dicionário usando o nome como chave\n",
    "    escolas_dict[nome_objeto] = professor\n",
    "\n",
    "for objeto_print, prof_print in escolas_dict.items():\n",
    "    print(f\"Nome do objeto: {objeto_print}\")\n",
    "\n",
    "\n"
   ]
  },
  {
   "cell_type": "code",
   "execution_count": 9,
   "metadata": {},
   "outputs": [
    {
     "name": "stdout",
     "output_type": "stream",
     "text": [
      "--------------------\n",
      "Nome do objeto: Professor 1_5948590.0_2002.0, Escolas: [1, 5], CH Respectivamente: [39, 3]\n",
      "Nome do objeto: Professor 3_5973168.0_2002.0, Escolas: [5, 1], CH Respectivamente: [39, 3]\n",
      "Nome do objeto: Professor 5_5922696.0_2002.0, Escolas: [5, 1], CH Respectivamente: [39, 3]\n",
      "Nome do objeto: Professor 7_5974417.0_2002.0, Escolas: [3], CH Respectivamente: [39]\n",
      "Nome do objeto: Professor 97_5951405.0_2002.0, Escolas: [6], CH Respectivamente: [39]\n",
      "Nome do objeto: Professor 2_5936943.0_2002.0, Escolas: [2], CH Respectivamente: [39]\n",
      "Nome do objeto: Professor 6_5936943.0_2002.0, Escolas: [2], CH Respectivamente: [39]\n",
      "Nome do objeto: Professor 8_5923338.0_2002.0, Escolas: [1, 5], CH Respectivamente: [39, 3]\n",
      "Nome do objeto: Professor 4_5971966.0_2002.0, Escolas: [4], CH Respectivamente: [39]\n",
      "Nome do objeto: Professor 10_5951385.0_2002.0, Escolas: [3], CH Respectivamente: [39]\n",
      "Nome do objeto: Professor 9_5951384.0_2002.0, Escolas: [3], CH Respectivamente: [27]\n",
      "--------------------\n"
     ]
    }
   ],
   "source": [
    "for nome_objeto, professor in escolas_dict.items():\n",
    "\n",
    "    for index, escolas in base_professores.iterrows():\n",
    "        \n",
    "        if (professor.MATRICULA == escolas['MATRICULA']):\n",
    "\n",
    "                if escolas['COD_ESCOLA'] not in professor.lista_escolas:\n",
    "                    professor.lista_escolas.append(escolas['COD_ESCOLA'])\n",
    "                    professor.CH_TOTAL.append(int(escolas['CH_TOTAL']))\n",
    "\n",
    "\n",
    "print('-'*20)\n",
    "for objeto_print, prof_print in escolas_dict.items():\n",
    "    print(f\"Nome do objeto: {objeto_print}, Escolas: {prof_print.lista_escolas}, CH Respectivamente: {prof_print.CH_TOTAL}\")\n",
    "print('-'*20)"
   ]
  },
  {
   "cell_type": "code",
   "execution_count": 10,
   "metadata": {},
   "outputs": [
    {
     "name": "stdout",
     "output_type": "stream",
     "text": [
      "                                1   2   3   4   5   6\n",
      "Professor 1_5948590.0_2002.0   39   0   0   0   3   0\n",
      "Professor 3_5973168.0_2002.0    3   0   0   0  39   0\n",
      "Professor 5_5922696.0_2002.0    3   0   0   0  39   0\n",
      "Professor 7_5974417.0_2002.0    0   0  39   0   0   0\n",
      "Professor 97_5951405.0_2002.0   0   0   0   0   0  39\n",
      "Professor 2_5936943.0_2002.0    0  39   0   0   0   0\n",
      "Professor 6_5936943.0_2002.0    0  39   0   0   0   0\n",
      "Professor 8_5923338.0_2002.0   39   0   0   0   3   0\n",
      "Professor 4_5971966.0_2002.0    0   0   0  39   0   0\n",
      "Professor 10_5951385.0_2002.0   0   0  39   0   0   0\n",
      "Professor 9_5951384.0_2002.0    0   0  27   0   0   0\n"
     ]
    }
   ],
   "source": [
    "import pandas as pd\n",
    "\n",
    "# Criar um DataFrame vazio com os professores como índice e escolas como colunas\n",
    "df = pd.DataFrame(index=escolas_dict.keys(), columns=list(set(escola for prof in escolas_dict.values() for escola in prof.lista_escolas)))\n",
    "\n",
    "# Preencher o DataFrame com as cargas horárias\n",
    "for nome_objeto, professor in escolas_dict.items():\n",
    "    for escola, carga_horaria in zip(professor.lista_escolas, professor.CH_TOTAL):\n",
    "        df.at[nome_objeto, escola] = carga_horaria\n",
    "\n",
    "# Preencher valores vazios com 0\n",
    "df = df.fillna(0)\n",
    "\n",
    "# Exibir o DataFrame\n",
    "print(df)"
   ]
  },
  {
   "cell_type": "code",
   "execution_count": 11,
   "metadata": {},
   "outputs": [
    {
     "name": "stdout",
     "output_type": "stream",
     "text": [
      "Nome do objeto: Professor 1_5948590.0_2002.0, Escolas: [1, 5], CH Respectivamente: [39, 3]\n",
      "Nome do objeto: Professor 3_5973168.0_2002.0, Escolas: [5, 1], CH Respectivamente: [39, 3]\n",
      "Nome do objeto: Professor 5_5922696.0_2002.0, Escolas: [5, 1], CH Respectivamente: [39, 3]\n",
      "Nome do objeto: Professor 7_5974417.0_2002.0, Escolas: [3], CH Respectivamente: [39]\n",
      "Nome do objeto: Professor 97_5951405.0_2002.0, Escolas: [6], CH Respectivamente: [39]\n",
      "Nome do objeto: Professor 2_5936943.0_2002.0, Escolas: [2], CH Respectivamente: [39]\n",
      "Nome do objeto: Professor 6_5936943.0_2002.0, Escolas: [2], CH Respectivamente: [39]\n",
      "Nome do objeto: Professor 8_5923338.0_2002.0, Escolas: [1, 5], CH Respectivamente: [39, 3]\n",
      "Nome do objeto: Professor 4_5971966.0_2002.0, Escolas: [4], CH Respectivamente: [39]\n",
      "Nome do objeto: Professor 10_5951385.0_2002.0, Escolas: [3], CH Respectivamente: [39]\n",
      "Nome do objeto: Professor 9_5951384.0_2002.0, Escolas: [3], CH Respectivamente: [27]\n"
     ]
    }
   ],
   "source": [
    "import copy\n",
    "\n",
    "def avaliar_alocacao(professores):\n",
    "    return sum(1 for prof in professores.values() if len(prof.lista_escolas) > 1)\n",
    "\n",
    "def busca_local(professores):\n",
    "    max_iteracoes = 2000\n",
    "    iteracao = 0\n",
    "\n",
    "    melhor_avaliacao = avaliar_alocacao(professores)\n",
    "    melhor_alocacao = copy.deepcopy(professores)\n",
    "\n",
    "    while iteracao < max_iteracoes:\n",
    "        professores_selecionados = list(professores.values())[:2]\n",
    "\n",
    "        for i in range(len(professores_selecionados)):\n",
    "            for j in range(len(professores_selecionados)):\n",
    "                if i != j:\n",
    "                    prof1, prof2 = professores_selecionados[i], professores_selecionados[j]\n",
    "\n",
    "                    for escola in set(prof1.lista_escolas + prof2.lista_escolas):\n",
    "                        ch_prof1 = prof1.CH_TOTAL[prof1.lista_escolas.index(escola)] if escola in prof1.lista_escolas else 0\n",
    "                        ch_prof2 = prof2.CH_TOTAL[prof2.lista_escolas.index(escola)] if escola in prof2.lista_escolas else 0\n",
    "\n",
    "                        if escola in prof1.lista_escolas:\n",
    "                            prof1.CH_TOTAL[prof1.lista_escolas.index(escola)] = ch_prof2\n",
    "                        if escola in prof2.lista_escolas:\n",
    "                            prof2.CH_TOTAL[prof2.lista_escolas.index(escola)] = ch_prof1\n",
    "\n",
    "        nova_avaliacao = avaliar_alocacao(professores)\n",
    "\n",
    "        if nova_avaliacao < melhor_avaliacao:\n",
    "            melhor_alocacao = copy.deepcopy(professores)\n",
    "            melhor_avaliacao = nova_avaliacao\n",
    "\n",
    "        iteracao += 1\n",
    "\n",
    "    return melhor_alocacao\n",
    "\n",
    "# Chamar a busca local\n",
    "nova_alocacao = busca_local(escolas_dict)\n",
    "\n",
    "# Exibir a nova alocação\n",
    "for nome_objeto, professor in nova_alocacao.items():\n",
    "    print(f\"Nome do objeto: {nome_objeto}, Escolas: {professor.lista_escolas}, CH Respectivamente: {professor.CH_TOTAL}\")\n"
   ]
  },
  {
   "cell_type": "markdown",
   "metadata": {},
   "source": [
    "Nesse exemplo da visualização gerada, o ideial seria que o professor 1 some as 3hrs de ch da escola 3 a sua escola principal, mas para isso seria necessario que algum outro professor liberasse 3 hrs na escola 1 para essa troca ser feita. Um exemplo de como isso poderia acontecer é o seguinte: o Professor 1 Doa 3 horas para o professor 7 que por sua vez doa 3 horas para o professor 97 que por fim doaria suas 3 hrs para o professor 1 e todos ficariam em apenas uma escola, veja que para isto precisamos verifica as interceções de escolas e como suas Ch poderiam ser compativeis\n"
   ]
  },
  {
   "cell_type": "code",
   "execution_count": 12,
   "metadata": {},
   "outputs": [
    {
     "data": {
      "image/png": "[encoded data removed]",
      "text/plain": [
       "<Figure size 640x480 with 1 Axes>"
      ]
     },
     "metadata": {},
     "output_type": "display_data"
    }
   ],
   "source": [
    "import networkx as nx\n",
    "import matplotlib.pyplot as plt\n",
    "\n",
    "def gerar_grafo_doacoes(professores):\n",
    "    grafo = nx.Graph()\n",
    "\n",
    "    for prof1 in professores:\n",
    "        for prof2 in professores:\n",
    "            # Verifica se professores têm escola em comum e carga horária pode ser transferida\n",
    "            if prof1 != prof2 and set(professores[prof1].lista_escolas).intersection(professores[prof2].lista_escolas):\n",
    "                grafo.add_edge(prof1, prof2)\n",
    "\n",
    "    return grafo\n",
    "\n",
    "# Suponha que 'escolas_dict' seja o dicionário de professores que você criou anteriormente\n",
    "grafo_doacoes = gerar_grafo_doacoes(escolas_dict)\n",
    "\n",
    "# Visualize o grafo (opcional, requer a biblioteca networkx e matplotlib)\n",
    "pos = nx.spring_layout(grafo_doacoes)\n",
    "nx.draw(grafo_doacoes, pos, with_labels=True, font_weight='black', node_color='gray', node_size=800, font_size=8)\n",
    "plt.show()\n",
    "\n"
   ]
  },
  {
   "cell_type": "code",
   "execution_count": null,
   "metadata": {},
   "outputs": [],
   "source": []
  },
  {
   "cell_type": "code",
   "execution_count": 13,
   "metadata": {},
   "outputs": [],
   "source": [
    "# Certamente! Vamos analisar cada parte do código e, em seguida, discutir como você pode adicionar mais critérios ao seu problema.\n",
    "\n",
    "# ### Função `avaliar_alocacao(professores)`\n",
    "\n",
    "# Esta função simplesmente conta o número de professores que estão alocados em mais de uma escola. A ideia é usar isso como uma métrica de qualidade da alocação. No seu problema, você pode querer ajustar essa métrica ou adicionar mais critérios.\n",
    "\n",
    "# ### Função `busca_local(professores)`\n",
    "\n",
    "# 1. **Definição de parâmetros:**\n",
    "#    - `max_iteracoes`: Número máximo de iterações do algoritmo de busca local.\n",
    "#    - `iteracao`: Contador para o número atual de iterações.\n",
    "#    - `melhor_avaliacao`: Métrica de avaliação da melhor alocação encontrada até o momento.\n",
    "#    - `melhor_alocacao`: Cópia da alocação correspondente à melhor avaliação.\n",
    "\n",
    "# 2. **Loop Principal:**\n",
    "#    - O algoritmo realiza trocas de carga horária entre escolas de dois professores selecionados aleatoriamente.\n",
    "#    - A avaliação é feita para medir a qualidade da nova alocação.\n",
    "#    - Se a nova alocação for melhor que a melhor até o momento, atualizamos a alocação e a avaliação.\n",
    "\n",
    "# 3. **Retorno:**\n",
    "#    - O algoritmo retorna a melhor alocação encontrada.\n",
    "\n",
    "# ### Exemplo de Uso:\n",
    "\n",
    "# - `nova_alocacao = busca_local(escolas_dict)`: Chama a função `busca_local` passando o dicionário de professores.\n",
    "# - `for nome_objeto, professor in nova_alocacao.items()`: Itera sobre a nova alocação e imprime os resultados.\n",
    "\n",
    "# ### Adicionando Mais Critérios:\n",
    "\n",
    "# Para adicionar mais critérios, você pode ajustar a função `avaliar_alocacao` para levar em consideração outros fatores. Por exemplo, se quiser minimizar não apenas o número de escolas, mas também a diferença total de carga horária entre os professores, você pode ajustar a métrica de avaliação.\n",
    "\n",
    "# Se você puder fornecer detalhes específicos sobre os critérios adicionais que deseja incluir, posso ajudá-lo a incorporá-los no código. Pode ser relacionado à carga horária total, preferências dos professores, ou qualquer outra restrição específica do seu problema."
   ]
  }
 ],
 "metadata": {
  "kernelspec": {
   "display_name": "Python 3",
   "language": "python",
   "name": "python3"
  },
  "language_info": {
   "codemirror_mode": {
    "name": "ipython",
    "version": 3
   },
   "file_extension": ".py",
   "mimetype": "text/x-python",
   "name": "python",
   "nbconvert_exporter": "python",
   "pygments_lexer": "ipython3",
   "version": "3.11.5"
  }
 },
 "nbformat": 4,
 "nbformat_minor": 2
}
