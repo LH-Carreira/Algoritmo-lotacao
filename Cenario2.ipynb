{
 "cells": [
  {
   "cell_type": "code",
   "execution_count": 63,
   "metadata": {},
   "outputs": [
    {
     "name": "stdout",
     "output_type": "stream",
     "text": [
      "Nome do objeto: Professor 1_5948590.0_2002.0\n",
      "Nome do objeto: Professor 3_5973168.0_2002.0\n",
      "Nome do objeto: Professor 5_5922696.0_2002.0\n",
      "Nome do objeto: Professor 7_5974417.0_2002.0\n",
      "Nome do objeto: Professor 97_5951405.0_2002.0\n",
      "Nome do objeto: Professor 2_5936943.0_2002.0\n",
      "Nome do objeto: Professor 6_5936943.0_2002.0\n",
      "Nome do objeto: Professor 8_5923338.0_2002.0\n",
      "Nome do objeto: Professor 4_5971966.0_2002.0\n",
      "Nome do objeto: Professor 10_5951385.0_2002.0\n",
      "Nome do objeto: Professor 9_5951384.0_2002.0\n"
     ]
    }
   ],
   "source": [
    "import pandas as pd\n",
    "\n",
    "class Professor:\n",
    "    def __init__(self, SERVIDOR, MATRICULA, COD_DISCIPLINA, TURNO):\n",
    "        self.SERVIDOR = SERVIDOR\n",
    "        self.MATRICULA = MATRICULA\n",
    "        self.COD_DISCIPLINA = COD_DISCIPLINA\n",
    "        self.TURNO = TURNO\n",
    "        self.escolas_carga_horaria = {}  # Dicionário para associar escolas e carga horária\n",
    "\n",
    "    def adicionar_escola_carga_horaria(self, escola, carga_horaria):\n",
    "        self.escolas_carga_horaria[escola] = carga_horaria\n",
    "\n",
    "# Carregar o DataFrame\n",
    "base_professores = pd.read_excel('professores.xlsx')\n",
    "base_professores = base_professores[base_professores['COD_DISCIPLINA'] == 2002]\n",
    "\n",
    "# Dicionário para armazenar os objetos Professor\n",
    "professores_dict = {}\n",
    "\n",
    "# Percorrer as linhas do DataFrame\n",
    "for indice, linha in base_professores.iterrows():\n",
    "    nome_objeto = f\"{linha['SERVIDOR']}_{linha['MATRICULA']}_{linha['COD_DISCIPLINA']}\"\n",
    "        \n",
    "    # Criar um objeto Professor para cada linha\n",
    "    professor = Professor(\n",
    "        linha['SERVIDOR'],\n",
    "        linha['MATRICULA'],\n",
    "        linha['COD_DISCIPLINA'],\n",
    "        linha['TURNO']\n",
    "    )\n",
    "\n",
    "    # Adicionar o objeto ao dicionário usando o nome como chave\n",
    "    professores_dict[nome_objeto] = professor\n",
    "\n",
    "for nome_objeto, professor in professores_dict.items():\n",
    "    print(f\"Nome do objeto: {nome_objeto}\")\n"
   ]
  },
  {
   "cell_type": "code",
   "execution_count": 64,
   "metadata": {},
   "outputs": [
    {
     "name": "stdout",
     "output_type": "stream",
     "text": [
      "--------------------\n",
      "Nome do objeto: Professor 1_5948590.0_2002.0, Escolas e CH: {1: 39, 3: 3}\n",
      "Nome do objeto: Professor 3_5973168.0_2002.0, Escolas e CH: {5: 39, 3: 3}\n",
      "Nome do objeto: Professor 5_5922696.0_2002.0, Escolas e CH: {5: 39, 1: 3}\n",
      "Nome do objeto: Professor 7_5974417.0_2002.0, Escolas e CH: {3: 39, 6: 3}\n",
      "Nome do objeto: Professor 97_5951405.0_2002.0, Escolas e CH: {6: 39, 1: 3}\n",
      "Nome do objeto: Professor 2_5936943.0_2002.0, Escolas e CH: {2: 39, 3: 3}\n",
      "Nome do objeto: Professor 6_5936943.0_2002.0, Escolas e CH: {2: 39, 3: 3}\n",
      "Nome do objeto: Professor 8_5923338.0_2002.0, Escolas e CH: {1: 39, 4: 3}\n",
      "Nome do objeto: Professor 4_5971966.0_2002.0, Escolas e CH: {4: 39, 5: 3}\n",
      "Nome do objeto: Professor 10_5951385.0_2002.0, Escolas e CH: {3: 39, 5: 3}\n",
      "Nome do objeto: Professor 9_5951384.0_2002.0, Escolas e CH: {3: 27}\n",
      "--------------------\n",
      "--------------------\n",
      "Nome do objeto: Professor 1_5948590.0_2002.0, Escolas e CH: {1: 39, 3: 3}\n",
      "Nome do objeto: Professor 3_5973168.0_2002.0, Escolas e CH: {5: 39, 3: 3}\n",
      "Nome do objeto: Professor 5_5922696.0_2002.0, Escolas e CH: {5: 39, 1: 3}\n",
      "Nome do objeto: Professor 7_5974417.0_2002.0, Escolas e CH: {3: 39, 6: 3}\n",
      "Nome do objeto: Professor 97_5951405.0_2002.0, Escolas e CH: {6: 39, 1: 3}\n",
      "Nome do objeto: Professor 2_5936943.0_2002.0, Escolas e CH: {2: 39, 3: 3}\n",
      "Nome do objeto: Professor 6_5936943.0_2002.0, Escolas e CH: {2: 39, 3: 3}\n",
      "Nome do objeto: Professor 8_5923338.0_2002.0, Escolas e CH: {1: 39, 4: 3}\n",
      "Nome do objeto: Professor 4_5971966.0_2002.0, Escolas e CH: {4: 39, 5: 3}\n",
      "Nome do objeto: Professor 10_5951385.0_2002.0, Escolas e CH: {3: 39, 5: 3}\n",
      "Nome do objeto: Professor 9_5951384.0_2002.0, Escolas e CH: {3: 27}\n",
      "--------------------\n"
     ]
    }
   ],
   "source": [
    "\n",
    "# Preencher as informações de escolas e carga horária\n",
    "for nome_objeto, professor in professores_dict.items():\n",
    "    for index, escolas in base_professores.iterrows():\n",
    "        if professor.MATRICULA == escolas['MATRICULA']:\n",
    "            if escolas['COD_ESCOLA'] not in professor.escolas_carga_horaria:\n",
    "                professor.adicionar_escola_carga_horaria(escolas['COD_ESCOLA'], int(escolas['CH_TOTAL']))\n",
    "\n",
    "# Imprimir as informações\n",
    "print('-'*20)\n",
    "for nome_objeto, professor in professores_dict.items():\n",
    "    print(f\"Nome do objeto: {nome_objeto}, Escolas e CH: {professor.escolas_carga_horaria}\")\n",
    "print('-'*20)\n",
    "\n",
    "professores_dict_ordenado = {}\n",
    "\n",
    "for nome_objeto, professor in professores_dict.items():\n",
    "    sorted_escolas_carga_horaria = dict(sorted(professor.escolas_carga_horaria.items(), key=lambda item: item[1], reverse=True))\n",
    "    professor.escolas_carga_horaria = sorted_escolas_carga_horaria\n",
    "    professores_dict_ordenado[nome_objeto] = professor\n",
    "    \n",
    "print('-'*20)\n",
    "for nome_objeto, professor in professores_dict.items():\n",
    "    print(f\"Nome do objeto: {nome_objeto}, Escolas e CH: {professor.escolas_carga_horaria}\")\n",
    "print('-'*20)\n"
   ]
  },
  {
   "cell_type": "code",
   "execution_count": 65,
   "metadata": {},
   "outputs": [
    {
     "name": "stdout",
     "output_type": "stream",
     "text": [
      "                                1   2   3   4   5   6\n",
      "Professor 1_5948590.0_2002.0   39   0   3   0   0   0\n",
      "Professor 3_5973168.0_2002.0    0   0   3   0  39   0\n",
      "Professor 5_5922696.0_2002.0    3   0   0   0  39   0\n",
      "Professor 7_5974417.0_2002.0    0   0  39   0   0   3\n",
      "Professor 97_5951405.0_2002.0   3   0   0   0   0  39\n",
      "Professor 2_5936943.0_2002.0    0  39   3   0   0   0\n",
      "Professor 6_5936943.0_2002.0    0  39   3   0   0   0\n",
      "Professor 8_5923338.0_2002.0   39   0   0   3   0   0\n",
      "Professor 4_5971966.0_2002.0    0   0   0  39   3   0\n",
      "Professor 10_5951385.0_2002.0   0   0  39   0   3   0\n",
      "Professor 9_5951384.0_2002.0    0   0  27   0   0   0\n"
     ]
    }
   ],
   "source": [
    "escolas = list(set(base_professores['COD_ESCOLA']))\n",
    "df = pd.DataFrame(index=professores_dict.keys(), columns=escolas)\n",
    "\n",
    "# Preencher o DataFrame com as cargas horárias\n",
    "for nome_objeto, professor in professores_dict.items():\n",
    "    for escola, carga_horaria in professor.escolas_carga_horaria.items():\n",
    "        df.at[nome_objeto, escola] = carga_horaria\n",
    "\n",
    "# Preencher valores vazios com 0\n",
    "df = df.fillna(0)\n",
    "\n",
    "# Exibir o DataFrame\n",
    "print(df)"
   ]
  },
  {
   "cell_type": "code",
   "execution_count": 66,
   "metadata": {},
   "outputs": [],
   "source": [
    "# primeiro_professor = None\n",
    "\n",
    "# for nome_objeto, professor in professores_dict.items():\n",
    "#     escolas_comp = dict(professor.escolas_carga_horaria.items())\n",
    "#     num_escolas = len(professor.escolas_carga_horaria)\n",
    "\n",
    "#     # Usando variáveis dinâmicas\n",
    "#     escolas_vars = [f'Escola{i+1}' for i in range(num_escolas)]\n",
    "    \n",
    "#     # Desempacotando variáveis dinâmicas\n",
    "#     escolas_values = list(professor.escolas_carga_horaria.values())\n",
    "#     escolas_tuple = tuple(escolas_vars)\n",
    "#     escolas_tuple = escolas_tuple[:len(escolas_values)]  # Ajuste para evitar erro de desempacotamento\n",
    "#     locals().update(zip(escolas_tuple, escolas_values))\n",
    "\n",
    "#     print(professor.escolas_carga_horaria)\n",
    "#     print(escolas_tuple)\n",
    "#     print(f'Variáveis desempacotadas: {\", \".join(escolas_tuple)}')\n",
    "\n",
    "#     # Verifica se é o primeiro professor\n",
    "#     if primeiro_professor is None:\n",
    "#         primeiro_professor = professor\n",
    "#     else:\n",
    "#         # Verifica a condição específica\n",
    "#         if 'Escola1' in escolas_keys and 'Escola2' in primeiro_professor.escolas_carga_horaria and getattr(professor, 'Escola1', None) == 'Escola2':\n",
    "\n",
    "#             print(nome_objeto)\n",
    "#             print('-' * 50)\n",
    "#             # Pode adicionar um break aqui se quiser parar de iterar após encontrar a primeira correspondência\n",
    "#             # break\n"
   ]
  },
  {
   "cell_type": "code",
   "execution_count": 67,
   "metadata": {},
   "outputs": [
    {
     "name": "stdout",
     "output_type": "stream",
     "text": [
      "Professor 1, Professor 7 e Professor 97 formam o cenario Fabricoin\n",
      "Professor 1, Professor 10 e Professor 5 formam o cenario Fabricoin\n",
      "Professor 5, Professor 8 e Professor 4 formam o cenario Fabricoin\n"
     ]
    }
   ],
   "source": [
    "professores_combinados = set()\n",
    "\n",
    "for nome_objeto, professor in professores_dict.items():\n",
    "    if len(professor.escolas_carga_horaria) == 2:\n",
    "        escolas_cod = dict(professor.escolas_carga_horaria.items())\n",
    "        e1, e2 = escolas_cod\n",
    "\n",
    "        for nome_objeto_verificado, professor_verificado in professores_dict.items():\n",
    "            if nome_objeto != nome_objeto_verificado and len(professor_verificado.escolas_carga_horaria) == 2:\n",
    "                escolas_cod_verificado = dict(professor_verificado.escolas_carga_horaria.items())\n",
    "                ev1, ev2 = escolas_cod_verificado\n",
    "\n",
    "                for nome_objeto_terceiro, professor_terceiro in professores_dict.items():\n",
    "                    if nome_objeto_terceiro != nome_objeto and nome_objeto_terceiro != nome_objeto_verificado and len(professor_terceiro.escolas_carga_horaria) == 2:\n",
    "                        escolas_cod_terceiro = dict(professor_terceiro.escolas_carga_horaria.items())\n",
    "                        evt1, evt2 = escolas_cod_terceiro\n",
    "\n",
    "                        if e2 == ev1 and ev2 == evt1 and evt2 == e1:\n",
    "                            combinacao = tuple(sorted([nome_objeto, nome_objeto_verificado, nome_objeto_terceiro]))\n",
    "                            if combinacao not in professores_combinados:\n",
    "                                professores_combinados.add(combinacao)\n",
    "                                print(f'{professor.SERVIDOR}, {professor_verificado.SERVIDOR} e {professor_terceiro.SERVIDOR} formam o cenario 2')\n"
   ]
  }
 ],
 "metadata": {
  "kernelspec": {
   "display_name": "Python 3",
   "language": "python",
   "name": "python3"
  },
  "language_info": {
   "codemirror_mode": {
    "name": "ipython",
    "version": 3
   },
   "file_extension": ".py",
   "mimetype": "text/x-python",
   "name": "python",
   "nbconvert_exporter": "python",
   "pygments_lexer": "ipython3",
   "version": "3.11.5"
  }
 },
 "nbformat": 4,
 "nbformat_minor": 2
}
